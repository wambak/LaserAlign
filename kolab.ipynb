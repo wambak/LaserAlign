{
  "nbformat": 4,
  "nbformat_minor": 0,
  "metadata": {
    "colab": {
      "name": "kolab.ipynb",
      "provenance": [],
      "collapsed_sections": [],
      "include_colab_link": true
    },
    "kernelspec": {
      "name": "python3",
      "display_name": "Python 3"
    },
    "language_info": {
      "name": "python"
    }
  },
  "cells": [
    {
      "cell_type": "markdown",
      "metadata": {
        "id": "view-in-github",
        "colab_type": "text"
      },
      "source": [
        "<a href=\"https://colab.research.google.com/github/wambak/LaserAlign/blob/main/kolab.ipynb\" target=\"_parent\"><img src=\"https://colab.research.google.com/assets/colab-badge.svg\" alt=\"Open In Colab\"/></a>"
      ]
    },
    {
      "cell_type": "code",
      "source": [
        "from google.colab import drive\n",
        "# This will prompt for authorization.\n",
        "drive.mount('/content/drive')\n",
        "! git clone https://github.com/nEXOSkyline/XPMSimulator\n",
        "! git clone https://github.com/nEXOSkyline/OnlineXPMFitter"
      ],
      "metadata": {
        "colab": {
          "base_uri": "https://localhost:8080/"
        },
        "id": "QbPNmLLlPkLz",
        "outputId": "7bb6c6e0-6984-49ca-f0c9-afd4326db02a"
      },
      "execution_count": 1,
      "outputs": [
        {
          "output_type": "stream",
          "name": "stdout",
          "text": [
            "Mounted at /content/drive\n",
            "Cloning into 'XPMSimulator'...\n",
            "remote: Enumerating objects: 124, done.\u001b[K\n",
            "remote: Counting objects: 100% (124/124), done.\u001b[K\n",
            "remote: Compressing objects: 100% (99/99), done.\u001b[K\n",
            "remote: Total 124 (delta 54), reused 81 (delta 21), pack-reused 0\u001b[K\n",
            "Receiving objects: 100% (124/124), 255.41 KiB | 14.19 MiB/s, done.\n",
            "Resolving deltas: 100% (54/54), done.\n",
            "Cloning into 'OnlineXPMFitter'...\n",
            "remote: Enumerating objects: 15, done.\u001b[K\n",
            "remote: Counting objects: 100% (15/15), done.\u001b[K\n",
            "remote: Compressing objects: 100% (11/11), done.\u001b[K\n",
            "remote: Total 15 (delta 0), reused 12 (delta 0), pack-reused 0\u001b[K\n",
            "Unpacking objects: 100% (15/15), done.\n"
          ]
        }
      ]
    },
    {
      "cell_type": "code",
      "source": [
        "! pip install numdifftools"
      ],
      "metadata": {
        "colab": {
          "base_uri": "https://localhost:8080/"
        },
        "id": "03IuFkl2D101",
        "outputId": "d9d0b628-b1e7-451c-f24a-9b9b758ed836"
      },
      "execution_count": 2,
      "outputs": [
        {
          "output_type": "stream",
          "name": "stdout",
          "text": [
            "Looking in indexes: https://pypi.org/simple, https://us-python.pkg.dev/colab-wheels/public/simple/\n",
            "Collecting numdifftools\n",
            "  Downloading numdifftools-0.9.40-py2.py3-none-any.whl (99 kB)\n",
            "\u001b[K     |████████████████████████████████| 99 kB 7.1 MB/s \n",
            "\u001b[?25hRequirement already satisfied: scipy>=0.8 in /usr/local/lib/python3.7/dist-packages (from numdifftools) (1.7.3)\n",
            "Requirement already satisfied: statsmodels>=0.6 in /usr/local/lib/python3.7/dist-packages (from numdifftools) (0.12.2)\n",
            "Requirement already satisfied: numpy>=1.9 in /usr/local/lib/python3.7/dist-packages (from numdifftools) (1.21.6)\n",
            "Collecting algopy>=0.4\n",
            "  Downloading algopy-0.5.7.zip (189 kB)\n",
            "\u001b[K     |████████████████████████████████| 189 kB 61.5 MB/s \n",
            "\u001b[?25hRequirement already satisfied: pandas>=0.21 in /usr/local/lib/python3.7/dist-packages (from statsmodels>=0.6->numdifftools) (1.3.5)\n",
            "Requirement already satisfied: patsy>=0.5 in /usr/local/lib/python3.7/dist-packages (from statsmodels>=0.6->numdifftools) (0.5.2)\n",
            "Requirement already satisfied: pytz>=2017.3 in /usr/local/lib/python3.7/dist-packages (from pandas>=0.21->statsmodels>=0.6->numdifftools) (2022.2.1)\n",
            "Requirement already satisfied: python-dateutil>=2.7.3 in /usr/local/lib/python3.7/dist-packages (from pandas>=0.21->statsmodels>=0.6->numdifftools) (2.8.2)\n",
            "Requirement already satisfied: six in /usr/local/lib/python3.7/dist-packages (from patsy>=0.5->statsmodels>=0.6->numdifftools) (1.15.0)\n",
            "Building wheels for collected packages: algopy\n",
            "  Building wheel for algopy (setup.py) ... \u001b[?25l\u001b[?25hdone\n",
            "  Created wheel for algopy: filename=algopy-0.5.7-py3-none-any.whl size=107608 sha256=46aa1b270a1e30b9fb881d04cafd8fb6114a7a8a0cbd58b15b476d2314c9b4cc\n",
            "  Stored in directory: /root/.cache/pip/wheels/a8/fd/06/21dc6aba9f680fdbde386c06b1a8a1cf3d9a5f6bd96e31dcd4\n",
            "Successfully built algopy\n",
            "Installing collected packages: algopy, numdifftools\n",
            "Successfully installed algopy-0.5.7 numdifftools-0.9.40\n"
          ]
        }
      ]
    },
    {
      "cell_type": "code",
      "source": [
        "! pip install lmfit"
      ],
      "metadata": {
        "colab": {
          "base_uri": "https://localhost:8080/"
        },
        "id": "gV2zP8ZEST9c",
        "outputId": "48fbe82a-65dc-4436-e94a-55dad8edbab3"
      },
      "execution_count": 3,
      "outputs": [
        {
          "output_type": "stream",
          "name": "stdout",
          "text": [
            "Looking in indexes: https://pypi.org/simple, https://us-python.pkg.dev/colab-wheels/public/simple/\n",
            "Collecting lmfit\n",
            "  Downloading lmfit-1.0.3.tar.gz (292 kB)\n",
            "\u001b[K     |████████████████████████████████| 292 kB 10.7 MB/s \n",
            "\u001b[?25hCollecting asteval>=0.9.22\n",
            "  Downloading asteval-0.9.27-py3-none-any.whl (17 kB)\n",
            "Requirement already satisfied: numpy>=1.18 in /usr/local/lib/python3.7/dist-packages (from lmfit) (1.21.6)\n",
            "Requirement already satisfied: scipy>=1.4 in /usr/local/lib/python3.7/dist-packages (from lmfit) (1.7.3)\n",
            "Collecting uncertainties>=3.0.1\n",
            "  Downloading uncertainties-3.1.7-py2.py3-none-any.whl (98 kB)\n",
            "\u001b[K     |████████████████████████████████| 98 kB 3.8 MB/s \n",
            "\u001b[?25hRequirement already satisfied: importlib-metadata in /usr/local/lib/python3.7/dist-packages (from asteval>=0.9.22->lmfit) (4.12.0)\n",
            "Requirement already satisfied: future in /usr/local/lib/python3.7/dist-packages (from uncertainties>=3.0.1->lmfit) (0.16.0)\n",
            "Requirement already satisfied: typing-extensions>=3.6.4 in /usr/local/lib/python3.7/dist-packages (from importlib-metadata->asteval>=0.9.22->lmfit) (4.1.1)\n",
            "Requirement already satisfied: zipp>=0.5 in /usr/local/lib/python3.7/dist-packages (from importlib-metadata->asteval>=0.9.22->lmfit) (3.8.1)\n",
            "Building wheels for collected packages: lmfit\n",
            "  Building wheel for lmfit (setup.py) ... \u001b[?25l\u001b[?25hdone\n",
            "  Created wheel for lmfit: filename=lmfit-1.0.3-py3-none-any.whl size=84413 sha256=353df2927abfc2c8bb78a0c5e18e4c32cdd9f2aae93f558fe3715b51b8f075a2\n",
            "  Stored in directory: /root/.cache/pip/wheels/b9/7a/d1/236aa0f8196b264fda481a112f7cfb1bfde7bfb20235f8e331\n",
            "Successfully built lmfit\n",
            "Installing collected packages: uncertainties, asteval, lmfit\n",
            "Successfully installed asteval-0.9.27 lmfit-1.0.3 uncertainties-3.1.7\n"
          ]
        }
      ]
    },
    {
      "cell_type": "code",
      "source": [
        "from uncertainties.core import wrap\n",
        "import matplotlib as mpl\n",
        "mpl.rc('figure',facecolor='white')\n",
        "mpl.rc('lines', markersize = 1.6 )\n",
        "mpl.rc('lines', markeredgewidth = 0.0 )\n",
        "#mpl.rc('font', **{'family':'sans-serif','sans-serif':['Arial']})\n",
        "import matplotlib.pyplot as plt\n",
        "import time\n",
        "import matplotlib.dates as dt\n",
        "import numpy as np\n",
        "import datetime\n",
        "\n",
        "#import ROOT\n",
        "from scipy import integrate\n",
        "from scipy import interpolate\n",
        "from scipy.special import erfc\n",
        "from scipy.optimize import curve_fit\n",
        "from lmfit.models import SkewedVoigtModel\n",
        "from lmfit.models import ExponentialGaussianModel\n",
        "from lmfit.models import SkewedGaussianModel\n",
        "from lmfit import Model\n",
        "from lmfit import Parameters\n",
        "import sys\n",
        "sys.path.append('/content/OnlineXPMFitter/')\n",
        "from minimizers import amoeba\n",
        "\n",
        "#amplitude:  33.4567195 +/- 0.65920093 (1.97%) (init = 32.94747)\n",
        "#center:     80.4117231 +/- 0.06320307 (0.08%) (init = 82)\n",
        "#sigma:      1.22147643 +/- 0.06437482 (5.27%) (init = 1.2)\n",
        "#skew:       1.39659135 +/- 0.20106826 (14.40%) (init = 0)\n",
        "#gamma:      1.22147643 +/- 0.06437482 (5.27%) == 'sigma'\n",
        "\n",
        "#p0                        =        41.22\n",
        "#p1                        =      41.4702\n",
        "#p2                        =       0.5944\n",
        "#p3                        =        395.3\n",
        "#p4                        =        3.598\n",
        "#p5                        =      1.10272\n",
        "#p6                        =      80.4117\n",
        "#p7                        =      -390916\n",
        "#p8                        =         81.9\n",
        "\n",
        "# best fit parameters for raw_sig.dat and raw_bkg.dat\n",
        "#{'cat': 41.93696059244275,\n",
        "# 'an': 42.04834238775081,\n",
        "# 'tcrise': 1.8283226210386985,\n",
        "# 'cent_c': 9.20915832759835,\n",
        "# 'gam_c': 0.4583927179361264,\n",
        "# 'tarise': 1.019244708214796,\n",
        "# 'cent_a': 81.41672761244706,\n",
        "# 'gam_a': 1.80825,\n",
        "# 'skew_a': 0.9827649391120391,\n",
        "# 'offst': 0.4508981196975133}\n",
        "\n",
        "\n",
        "pkmodel = SkewedVoigtModel()\n",
        "catmodel = ExponentialGaussianModel()\n",
        "pars = pkmodel.make_params()\n",
        "catpars = catmodel.make_params()\n",
        "err = 0.0\n",
        "sqrt2 = np.sqrt(2.0)\n",
        "\n",
        "def diff_func(x,cat,an,offst,thold,tcrise,tarise,center,gamma,skew):\n",
        "    global err\n",
        "    y = cat*np.exp(-((-x+10.0+tcrise**2/thold)/(sqrt2*tcrise))**2)*np.exp( -(x-10.0-tcrise**2/(2*thold))/thold )\n",
        "    y = y + (-1.0/thold)*0.5*cat*np.exp( -(x-10.0-tcrise**2/(2*thold))/thold )*erfc((-x+10.0+tcrise**2/thold)/(sqrt2*tcrise))\n",
        "    pars['amplitude'].value = an\n",
        "    pars['sigma'].value = tarise\n",
        "    pars['center'].value = center\n",
        "    pars['gamma'].value = gamma\n",
        "    pars['skew'].value = skew\n",
        "    integrand = lambda xi : pkmodel.eval( pars, x=xi )\n",
        "    norm = integrate.quad( integrand, -np.inf , np.inf )[0] \n",
        "    svint = np.array([ integrate.quad( integrand, -np.inf,xi )[0] for xi in x ])/norm\n",
        "    y = y - pkmodel.eval( pars, x=x )*np.exp( -(x-81.9-tarise**2/(2*thold))/thold )\n",
        "    y = y + (1.0/thold)*an*svint*np.exp( -(x-81.9)/thold )\n",
        "    return y\n",
        "\n",
        "def fitter_func(x,cat,an,offst,tcrise,tarise):\n",
        "    global err\n",
        "    thold = 395.3\n",
        "    x_beg = x[x<10.0]\n",
        "    x_mid = x[(x>=10.0)*(x<81.9)]\n",
        "    x_end = x[x>=81.9]\n",
        "    y_beg = 0.5*cat*erfc((-x_beg+10.0)/tcrise) - 0.5*an*erfc((-x_beg+81.9)/tarise)\n",
        "    y_mid = 0.5*cat*erfc((-x_mid+10.0)/tcrise)*np.exp(-(x_mid-10.0)/thold) - 0.5*an*erfc((-x_mid+81.9)/tarise)\n",
        "    y_end = 0.5*cat*erfc((-x_end+10.0)/tcrise)*np.exp(-(x_end-10.0)/thold) - 0.5*an*erfc((-x_end+81.9)/tarise)*np.exp(-(x_end-81.9)/thold)\n",
        "    y = np.concatenate((y_beg,y_mid,y_end),axis=None)\n",
        "    y = y + offst\n",
        "    return y\n",
        "\n",
        "def theory_func(x,cat,an,offst,thold,tcrise,tarise):\n",
        "    global err\n",
        "    y = 0.5*cat*erfc((-x+10.0+tcrise**2/thold)/(sqrt2*tcrise))*np.exp( -(x-10.0-tcrise**2/(2*thold))/thold )\n",
        "    y = y - 0.5*an*erfc((-x+81.9+tarise**2/thold)/(sqrt2*tarise))*np.exp( -(x-81.9-tarise**2/(2*thold))/thold )\n",
        "    y = y + offst\n",
        "    return y\n",
        "\n",
        "def thesis_func(x,cat,an,offst,thold,tcrise,tarise):\n",
        "    global err\n",
        "    y = 0.5*cat*erfc((-x+10.0)/(tcrise))*np.exp( -(x-10.0)/thold )\n",
        "    y = y - 0.5*an*erfc((-x+81.9)/(tarise))*np.exp( -(x-81.9)/thold )\n",
        "    y = y + offst\n",
        "    return y\n",
        "\n",
        "def svi(x,tarise,center,gamma,skew) :\n",
        "    pars['sigma'].value = tarise\n",
        "    pars['center'].value = center\n",
        "    pars['gamma'].value = gamma\n",
        "    pars['skew'].value = skew\n",
        "    integrand = lambda xi : pkmodel.eval( pars, x=xi )\n",
        "    norm = integrate.quad( integrand, -np.inf , np.inf )[0] \n",
        "    y = np.array([ integrate.quad( integrand, -np.inf,xi )[0] for xi in x ])/norm\n",
        "    return y\n",
        "\n",
        "def double_diff(x,cat,an,tcrise,cent_c,gam_c,tarise,cent_a,gam_a,skew_a):\n",
        "    catpars['amplitude'].value = cat\n",
        "    catpars['sigma'].value = tcrise\n",
        "    catpars['center'].value = cent_c\n",
        "    catpars['gamma'].value = gam_c\n",
        "    y = catmodel.eval( catpars, x=x )#*np.exp( -(x-10.0)/thold )\n",
        "    pars['amplitude'].value = an\n",
        "    pars['sigma'].value = tarise\n",
        "    pars['center'].value = cent_a\n",
        "    pars['gamma'].value = gam_a\n",
        "    pars['skew'].value = skew_a\n",
        "    y = y - pkmodel.eval( pars, x=x)#*np.exp( -(x-81.9)/thold )\n",
        "    return y\n",
        " \n",
        "def smeared_func(x,cat,an,offst,thold,tcrise,tarise,center,gamma,skew):\n",
        "    global err\n",
        "    y = 0.5*cat*erfc((-x+10.0+tcrise**2/thold)/(sqrt2*tcrise))*np.exp( -(x-10.0-tcrise**2/(2*thold))/thold )\n",
        "    pars['amplitude'].value = an\n",
        "    pars['sigma'].value = tarise\n",
        "    pars['center'].value = center\n",
        "    pars['gamma'].value = gamma\n",
        "    pars['skew'].value = skew\n",
        "    integrand = lambda xi : pkmodel.eval( pars, x=xi )\n",
        "    norm = integrate.quad( integrand, -np.inf , np.inf )[0] \n",
        "    svint = np.array([ integrate.quad( integrand, -np.inf,xi )[0] for xi in x ])/norm\n",
        "    y = y - an*svint*np.exp( -(x-81.9)/thold )\n",
        "    y = y + offst\n",
        "    return y\n",
        "\n",
        "def extra_smeared(x,cat,an,tcrise,cent_c,gam_c,tarise,cent_a,gam_a,skew_a,offst):\n",
        "    catpars['amplitude'].value = cat\n",
        "    catpars['sigma'].value = tcrise\n",
        "    catpars['center'].value = cent_c\n",
        "    catpars['gamma'].value = gam_c\n",
        "    #tfine = np.arange(x[-1]-1000.0,x[-1],0.08)\n",
        "    integrand_c = catmodel.eval(catpars, x=x )\n",
        "    integral_c = integrate.cumulative_trapezoid( integrand_c, x) \n",
        "    integral_c = np.append( integral_c, integral_c[-1] )\n",
        "    y = integral_c*np.exp( -(x-10.0)/395.3 )\n",
        "    pars['amplitude'].value = an\n",
        "    pars['sigma'].value = tarise\n",
        "    pars['center'].value = cent_a\n",
        "    pars['gamma'].value = gam_a\n",
        "    pars['skew'].value = skew_a\n",
        "    integrand_a = pkmodel.eval(pars, x=x )\n",
        "    integral_a = integrate.cumulative_trapezoid( integrand_a, x) \n",
        "    integral_a = np.append( integral_a, integral_a[-1] )\n",
        "    y = y - integral_a*np.exp( -(x-81.9)/395.3 )\n",
        "    y = y + offst\n",
        "    return y\n",
        "\n",
        "\n",
        "t = []\n",
        "volt = []\n",
        "wf = []\n",
        "#with open('sig_plus_bkg1.dat') as ff:\n",
        "with open('/content/XPMSimulator/analysis/testwaveform_0956.dat') as ff:\n",
        "    for line in ff:\n",
        "        try :\n",
        "            t.append( 1000000.0*float(line.split(',')[0]) )\n",
        "            volt.append( 1000.0*float(line.split(',')[1]) )\n",
        "        except ValueError:\n",
        "            continue\n",
        "#with open('bkg.dat') as ff:\n",
        "import glob\n",
        "files = glob.glob('/content/XPMSimulator/analysis/bkg.dat')\n",
        "with open(files[0]) as ff:\n",
        "    for ln, line in enumerate(ff):\n",
        "        try :\n",
        "            volt[ln] = 1.0*volt[ln]# - 1000.0*float(line.split(',')[1])\n",
        "        except Exception:\n",
        "            continue\n",
        "#with open('rawsynth14bit.dat') as ff:\n",
        "#    for line in ff:\n",
        "#        try :\n",
        "#            wfm = [ float(u) for u in line.split(',') ]\n",
        "#        except ValueError:\n",
        "#            continue\n",
        "#with open('/home/kolo/nEXO/nEXOskyline/XPM_analysis/data/FitterLast2.csv') as ff:\n",
        "#with open('sample_wfm.csv') as ff:\n",
        "#    for line in ff:\n",
        "#        try :\n",
        "#            t.append( 1000000.0*float(line.split(',')[0]) )\n",
        "#            volt.append( 1000.0*float(line.split(',')[1]) )\n",
        "#        except ValueError:\n",
        "#            continue\n",
        "\n",
        "with open('/content/XPMSimulator/analysis/raw_sig.dat') as ff:\n",
        "    for line in ff:\n",
        "        try :\n",
        "            wfm = [ float(u) for u in line.split(',') ]\n",
        "        except ValueError:\n",
        "            continue\n",
        "with open('/content/XPMSimulator/analysis/raw_bkg.dat') as ff:\n",
        "    for line in ff:\n",
        "        try :\n",
        "            raw_bkg = [ float(u) for u in line.split(',') ]\n",
        "        except ValueError:\n",
        "            continue\n",
        "#wfmpre = '2;16;ASC;RP;MSB;500;\"Ch1, AC coupling, 2.0E-2 V/div, 4.0E-5 s/div, 500 points, Average mode\";Y;8.0E-7;0;-1.2E-4;\"s\";3.125E-6;0.0E0;-1.3824E4;\"V\"\\n' #16 bit\n",
        "wfmpre = '1;8;ASC;RP;MSB;500;\"Ch1, AC coupling, 2.0E-2 V/div, 4.0E-5 s/div, 500 points, Average mode\";Y;8.0E-7;0;-1.2E-4;\"s\";8.0E-4;0.0E0;-5.4E1;\"V\"'\n",
        "t = [ 1.0e6*(float(wfmpre.split(';')[8])*float(i)+float(wfmpre.split(';')[10])) for i in range(0,500) ]\n",
        "volt = np.array([ 1.0e3*(( dl - float(wfmpre.split(';')[14]) )*float(wfmpre.split(';')[12]) - float(wfmpre.split(';')[13])) for dl in wfm ])\n",
        "#volt = volt + 44.6*2\n",
        "bkg = [ 1.0e3*(( dl - float(wfmpre.split(';')[14]) )*float(wfmpre.split(';')[12]) - float(wfmpre.split(';')[13])) for dl in raw_bkg ]\n",
        "volt = np.array([ v[0] - v[1] for v in zip( volt , bkg ) ])\n",
        "\n",
        "volt = np.array(volt)\n",
        "t = np.array(t)\n",
        "vprime = np.gradient(volt)/np.gradient(t)\n",
        "#baseline = np.concatenate((volt[0:150],volt[0:150],volt[0:150],volt[0:50]),axis=None)\n",
        "#baseline = baseline - np.mean(baseline)\n",
        "\n",
        "#p_i = [66.22,65.4702,41.5944,395.3,3.598,1.10272,80.4117,-390916.0,81.9]\n",
        "#p_i = [65.669502,66.09416,41.967726,395.3,3.598,1.0884104,81.320328,1.80825,0.38634939]\n",
        "p_i = [41.814864440434924, 41.513609990211904, 10.454241824848786, 2.500096809560329, 0.7947469675251235, 82.0070376906552, 2.7723460671136397, 0.3434182060200226, 1.3112624408030746, 0.48889382168534057]\n",
        "#p_i = [41.82455053072373, 41.518519441501844, 10.45413165289595, 2.553132362269809, 0.795176337700352, 81.98058071984204, 2.733861086074098, 0.36151105277231244, 1.307247568879716, 0.48234273366695435]\n",
        "#p_i = [41.9369652,42.0483193,10.0,3.598,0.980325759727434,81.9,1.80825,0.8,0.9,0.2]\n",
        "#p_i = [41.9369652,42.0483193,10.0,1.0,0.980325759727434,81.9,2.9,0.8,0.9,0.2]\n",
        "#p_i = [66.22,65.4702,41.5944,395.3,1.0,2.9,80.4117,-390916.0,81.9]\n",
        "#p_i = [41.22,41.4702,0.5944,395.3,3.598,1.0884104,81.320328,1.80825,0.38634939]\n",
        "#svi_norm = svi(t,p_i[5],p_i[6],p_i[7],p_i[8]) \n",
        "#svi_norm = interpolate.interp1d( t, svi_norm )\n",
        "\n",
        "def fast_smeared_func(x,cat,an,offst,thold,tcrise,tarise,center,gamma,skew):\n",
        "    global err\n",
        "    y = 0.5*cat*erfc((-x+10.0+tcrise**2/thold)/(sqrt2*tcrise))*np.exp( -(x-10.0-tcrise**2/(2*thold))/thold )\n",
        "    y = y-(an*svi_norm(x))*np.exp( -(x-center)/thold ) + offst\n",
        "    return y\n",
        "\n",
        "import random\n",
        "\n",
        "import csv\n",
        "\n",
        "\n",
        "#wavmodel = Model(smeared_func,nan_policy='raise')\n",
        "wavmodel = Model(extra_smeared,nan_policy='raise')\n",
        "#wavmodel = Model(fitter_func,nan_policy='raise')\n",
        "wavparams = wavmodel.make_params()\n",
        "\n",
        "wavparams['cat'].value = p_i[0]\n",
        "wavparams['cat'].vary = True\n",
        "wavparams['an'].value = p_i[1]\n",
        "wavparams['an'].vary = True\n",
        "wavparams['cent_c'].value = p_i[2]\n",
        "wavparams['cent_c'].vary = False\n",
        "wavparams['tcrise'].value = p_i[3]\n",
        "wavparams['tcrise'].vary = False\n",
        "wavparams['tarise'].value = p_i[4]\n",
        "wavparams['tarise'].vary = False\n",
        "wavparams['cent_a'].value = p_i[5]\n",
        "wavparams['cent_a'].vary = False\n",
        "wavparams['gam_a'].value = p_i[6]\n",
        "wavparams['gam_a'].vary = False\n",
        "wavparams['skew_a'].value = p_i[7]\n",
        "wavparams['skew_a'].vary = False\n",
        "wavparams['gam_c'].value = p_i[8]\n",
        "wavparams['gam_c'].vary = False\n",
        "wavparams['offst'].value = p_i[9]\n",
        "wavparams['offst'].vary = True\n",
        "\n",
        "def smchi2(vars,data):\n",
        "  model = Model(extra_smeared,nan_policy='raise')\n",
        "  chi2 = 0.0\n",
        "  f_y = model.eval(x=data[0],cat=vars[0],an=vars[1],cent_c=vars[2],tcrise=vars[3],tarise=vars[4],cent_a=vars[5],gam_a=vars[6],skew_a=vars[7],gam_c=vars[8],offst=vars[9])\n",
        "  for yi,f_yi in zip(data[1],f_y) :\n",
        "    chi2 -= (yi-f_yi)**2\n",
        "  return chi2\n",
        "bvp,chip,n_p = (amoeba.amoeba(p_i,[1.5,1.5,0.5,0.5,0.5,0.5,0.5,0.5,0.5,1.5],smchi2,data=[t,volt],itmax=5000))\n",
        "print('proposed w/simplex',bvp,chip,n_p)\n",
        "print('simplex lifetime, proposed',(81.9-10.0)/np.log(bvp[0]/bvp[1]))\n",
        "\n",
        "#this is equivalent to the amoeba fit used in purity.exe\n",
        "result = wavmodel.fit(volt,wavparams,x=t,method='nelder')\n",
        "print('proposed w/lmfit',result.fit_report())\n",
        "print('lmfit lifetime, proposed',(81.9-10.0)/np.log(result.best_values['cat']/result.best_values['an']))\n",
        "\n",
        "b = result.best_values\n",
        "#print(b)\n",
        "fittermodel = Model(fitter_func,nan_policy='raise')\n",
        "p_i = [41.9369652,42.0483193,10.0,1.0,2.9,81.9,1.0,0.8,0.9,0.2]\n",
        "wp = fittermodel.make_params()\n",
        "wp['cat'].value = p_i[0]\n",
        "wp['cat'].vary = True\n",
        "wp['an'].value = p_i[1]\n",
        "wp['an'].vary = True\n",
        "wp['tarise'].value = p_i[4]\n",
        "wp['tarise'].vary = False\n",
        "wp['tcrise'].value = p_i[3]\n",
        "wp['tcrise'].vary = False\n",
        "wp['offst'].value = p_i[9]\n",
        "wp['offst'].vary = True\n",
        "\n",
        "result2 = fittermodel.fit(volt,wp,x=t)\n",
        "print('lmfit lifetime, standard',(81.9-10.0)/np.log(result2.best_values['cat']/result2.best_values['an']))\n",
        "print('standard w/lmfit',result2.fit_report())\n",
        "def fitterchi2(vars,data):\n",
        "  model = Model(fitter_func,nan_policy='raise')\n",
        "  chi2 = 0.0\n",
        "  f_y = model.eval(x=data[0],cat=vars[0],an=vars[1],tcrise=1.0,tarise=2.9,offst=vars[2])\n",
        "  for yi,f_yi in zip(data[1],f_y) :\n",
        "    chi2 -= (yi-f_yi)**2\n",
        "  return chi2\n",
        "\n",
        "bv,chi,n = (amoeba.amoeba([41.9369655,42.0483183,0.5],[1.5,1.5,1.5],fitterchi2,data=[t,volt],itmax=5000))\n",
        "print('standard w/simplex',bv,chi,n)\n",
        "print('simplex lifetime, standard',(81.9-10.0)/np.log(bv[0]/bv[1]))\n",
        "tfine = np.arange(t[0],t[-1]+0.8,(t[1]-t[0])/10.0)\n",
        "simplex_p = wavmodel.eval(x=tfine,cat=bvp[0],an=bvp[1],cent_c=bvp[2],tcrise=bvp[3],tarise=bvp[4],cent_a=bvp[5],gam_a=bvp[6],skew_a=bvp[7],gam_c=bvp[8],offst=bvp[9])\n",
        "#proposed = wavmodel.eval(b,x=tfine)\n",
        "simplex_s = fittermodel.eval(x=tfine,cat=bv[0],an=bv[1],tcrise=1.0,tarise=2.9,offst=bv[2],thold=395.3)\n",
        "b2 = result2.best_values\n",
        "stand_coarse = fittermodel.eval(x=t,cat=41.94,an=41.28,tcrise=1.0,tarise=2.9,offst=0.0,thold=395.3)\n",
        "\n",
        "plt.plot(tfine,simplex_s,'c-',label='standard, AMOEBA')\n",
        "plt.plot(tfine,result2.eval(x=tfine), 'b-',label='standard, lmfit')\n",
        "plt.plot(tfine,simplex_p, 'r-',label='proposed, AMOEBA')\n",
        "plt.plot(t,volt,'y-',label = 'trace')\n",
        "plt.xlabel('time [$\\mu$s]')\n",
        "plt.ylabel('amplitude [mV]')\n",
        "plt.xlim([-10,200])\n",
        "#plt.ylim([-10,55])\n",
        "plt.legend(loc='upper right')\n",
        "plt.figure()\n",
        "standard = fittermodel.eval(x=tfine,cat=40.0,an=37.225,tcrise=1.0,tarise=2.9,offst=0.0,thold=395.3)\n",
        "plt.plot(tfine,standard,'r-',label='standard (40.0 mV,37.2 mV)')\n",
        "proposed = wavmodel.eval(x=tfine,cat=40.0,an=37.225,tcrise=bvp[3],tarise=bvp[4],offst=0.0,cent_c=bvp[2],cent_a=bvp[5],gam_a=bvp[6],skew_a=bvp[7],gam_c=bvp[8])\n",
        "plt.plot(tfine,proposed,'g-',label='proposed (40.0 mV,37.2 mV)')\n",
        "\n",
        "plt.xlabel('time [$\\mu$s]')\n",
        "plt.ylabel('amplitude [mV]')\n",
        "plt.xlim([-10,200])\n",
        "#plt.ylim([-10,55])\n",
        "plt.legend(loc='upper right')\n",
        "\n",
        "plt.show()\n"
      ],
      "metadata": {
        "colab": {
          "base_uri": "https://localhost:8080/",
          "height": 1000
        },
        "id": "BrElgb8OPKp_",
        "outputId": "3550bd19-8f76-4a28-ac56-8ed9f7e5d5f9"
      },
      "execution_count": 4,
      "outputs": [
        {
          "output_type": "stream",
          "name": "stdout",
          "text": [
            "proposed w/simplex [41.815391784184925, 41.51413733396191, 10.453294559223785, 2.5017374345603294, 0.7949227487751234, 82.00721347190523, 2.77252184836364, 0.34359398727002266, 1.3114382220530758, 0.48845436856034063] -106.93248071171625 14\n",
            "simplex lifetime, proposed 9944.030763622612\n",
            "proposed w/lmfit [[Model]]\n",
            "    Model(extra_smeared)\n",
            "[[Fit Statistics]]\n",
            "    # fitting method   = Nelder-Mead\n",
            "    # function evals   = 97\n",
            "    # data points      = 500\n",
            "    # variables        = 3\n",
            "    chi-square         = 106.934036\n",
            "    reduced chi-square = 0.21515903\n",
            "    Akaike info crit   = -765.197969\n",
            "    Bayesian info crit = -752.554144\n",
            "[[Variables]]\n",
            "    cat:     41.8157748 +/- 0.06759473 (0.16%) (init = 41.81486)\n",
            "    an:      41.5121115 +/- 0.06096744 (0.15%) (init = 41.51361)\n",
            "    tcrise:  2.500097 (fixed)\n",
            "    cent_c:  10.45424 (fixed)\n",
            "    gam_c:   1.311262 (fixed)\n",
            "    tarise:  0.794747 (fixed)\n",
            "    cent_a:  82.00704 (fixed)\n",
            "    gam_a:   2.772346 (fixed)\n",
            "    skew_a:  0.3434182 (fixed)\n",
            "    offst:   0.48746559 +/- 0.03597893 (7.38%) (init = 0.4888938)\n",
            "[[Correlations]] (unreported correlations are < 0.100)\n",
            "    C(cat, offst) = -0.592\n",
            "    C(cat, an)    = 0.499\n",
            "    C(an, offst)  = 0.193\n",
            "lmfit lifetime, proposed 9864.953609907332\n",
            "lmfit lifetime, standard 4583.899887833999\n",
            "standard w/lmfit [[Model]]\n",
            "    Model(fitter_func)\n",
            "[[Fit Statistics]]\n",
            "    # fitting method   = leastsq\n",
            "    # function evals   = 8\n",
            "    # data points      = 500\n",
            "    # variables        = 3\n",
            "    chi-square         = 829.565618\n",
            "    reduced chi-square = 1.66914611\n",
            "    Akaike info crit   = 259.147057\n",
            "    Bayesian info crit = 271.790881\n",
            "[[Variables]]\n",
            "    cat:     41.2206354 +/- 0.18575182 (0.45%) (init = 41.93697)\n",
            "    an:      40.5791203 +/- 0.16711427 (0.41%) (init = 42.04832)\n",
            "    offst:   0.59263546 +/- 0.09981899 (16.84%) (init = 0.2)\n",
            "    tcrise:  1 (fixed)\n",
            "    tarise:  2.9 (fixed)\n",
            "[[Correlations]] (unreported correlations are < 0.100)\n",
            "    C(cat, offst) = -0.587\n",
            "    C(cat, an)    = 0.495\n",
            "    C(an, offst)  = 0.201\n",
            "standard w/simplex [41.220520073415884, 40.57932710562669, 0.5927470232670311] -829.5656247272387 41\n",
            "simplex lifetime, standard 4586.207934649482\n"
          ]
        },
        {
          "output_type": "display_data",
          "data": {
            "text/plain": [
              "<Figure size 432x288 with 1 Axes>"
            ],
            "image/png": "[encoded data removed]"
          },
          "metadata": {}
        },
        {
          "output_type": "display_data",
          "data": {
            "text/plain": [
              "<Figure size 432x288 with 1 Axes>"
            ],
            "image/png": "[encoded data removed]"
          },
          "metadata": {}
        }
      ]
    },
    {
      "cell_type": "code",
      "source": [
        "result.conf_interval()['cat'][2][1] - result.best_values['cat']"
      ],
      "metadata": {
        "id": "9KTwyXv7KhGZ",
        "colab": {
          "base_uri": "https://localhost:8080/"
        },
        "outputId": "6693f4f5-467a-416b-b6ef-e9d2a7493582"
      },
      "execution_count": 22,
      "outputs": [
        {
          "output_type": "execute_result",
          "data": {
            "text/plain": [
              "-0.06737102167480202"
            ]
          },
          "metadata": {},
          "execution_count": 22
        }
      ]
    },
    {
      "cell_type": "code",
      "source": [
        "result.conf_interval()['cat'][2][1] - result.best_values['cat']"
      ],
      "metadata": {
        "colab": {
          "base_uri": "https://localhost:8080/"
        },
        "id": "INgfddJjJDIV",
        "outputId": "b696aeef-0016-4cb1-ee00-f3c408063d7f"
      },
      "execution_count": null,
      "outputs": [
        {
          "output_type": "execute_result",
          "data": {
            "text/plain": [
              "10185.446293003253"
            ]
          },
          "metadata": {},
          "execution_count": 11
        }
      ]
    },
    {
      "cell_type": "code",
      "source": [
        "(81.9-10.0)/numpy.log(40.0/37.225)"
      ],
      "metadata": {
        "colab": {
          "base_uri": "https://localhost:8080/"
        },
        "id": "Adr0M34Nvk6F",
        "outputId": "3143409a-f85c-4afd-b11f-1b62035d2ae8"
      },
      "execution_count": null,
      "outputs": [
        {
          "output_type": "execute_result",
          "data": {
            "text/plain": [
              "1000.0156394119919"
            ]
          },
          "metadata": {},
          "execution_count": 28
        }
      ]
    },
    {
      "cell_type": "code",
      "source": [
        "\n"
      ],
      "metadata": {
        "id": "MTV6NRF7zxjm"
      },
      "execution_count": null,
      "outputs": []
    }
  ]
}